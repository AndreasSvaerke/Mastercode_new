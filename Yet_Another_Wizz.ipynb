{
 "cells": [
  {
   "cell_type": "code",
   "execution_count": 1,
   "id": "8207535b",
   "metadata": {},
   "outputs": [],
   "source": [
    "import yaw"
   ]
  },
  {
   "cell_type": "code",
   "execution_count": 2,
   "id": "fc0ebcbe",
   "metadata": {},
   "outputs": [],
   "source": [
    "ref_path = ('For_YAW/entire_reference_catalog')\n",
    "rand_path = ('For_YAW/Random_catalog')\n",
    "real_path = ('For_YAW/real_unknown_catalog')\n",
    "fake_unkn_05_1_path = ('For_YAW/fake_unknown_catalog_05_1')"
   ]
  },
  {
   "cell_type": "code",
   "execution_count": 3,
   "id": "96b74787",
   "metadata": {},
   "outputs": [
    {
     "data": {
      "text/plain": [
       "'For_YAW/entire_reference_catalog.csv'"
      ]
     },
     "execution_count": 3,
     "metadata": {},
     "output_type": "execute_result"
    }
   ],
   "source": [
    "ref_path+'.csv'"
   ]
  },
  {
   "cell_type": "code",
   "execution_count": 4,
   "id": "32e23a58",
   "metadata": {},
   "outputs": [],
   "source": [
    "import pandas as pd\n",
    "\n",
    "df_ref = pd.read_csv(ref_path+'.csv')\n",
    "df_fake_05_1 = pd.read_csv(fake_unkn_05_1_path+'.csv')\n",
    "df_rand = pd.read_csv(rand_path+'.csv')\n",
    "df_real = pd.read_csv(real_path+'.csv')\n",
    " "
   ]
  },
  {
   "cell_type": "code",
   "execution_count": 5,
   "id": "5c2dcd44",
   "metadata": {},
   "outputs": [],
   "source": [
    "df_ref = df_ref.rename(columns={'redshift': 'redshifts'})"
   ]
  },
  {
   "cell_type": "code",
   "execution_count": 6,
   "id": "cb80d243",
   "metadata": {},
   "outputs": [],
   "source": [
    "import numpy as np\n",
    "random_redshifts = np.random.uniform(0.5, 1, size=len(df_rand))"
   ]
  },
  {
   "cell_type": "code",
   "execution_count": 7,
   "id": "d54e4c99",
   "metadata": {},
   "outputs": [],
   "source": [
    "df_rand['redshifts'] = random_redshifts"
   ]
  },
  {
   "cell_type": "code",
   "execution_count": 8,
   "id": "feba3f2a",
   "metadata": {},
   "outputs": [],
   "source": [
    "from astropy.table import Table \n",
    "\n",
    "table_ref = Table.from_pandas(df_ref)\n",
    "#table_05_1 = Table.from_pandas(df_05_1)\n",
    "table_rand = Table.from_pandas(df_rand)\n",
    "table_fake_05_1 = Table.from_pandas(df_fake_05_1)\n",
    "table_real = Table.from_pandas(df_real)\n",
    "\n",
    "\n",
    "table_ref.write(ref_path+'.fits', format='fits', overwrite=True)\n",
    "#table_05_1.write('For_YAW/fake_unknown_catalog_05_1.fits', format='fits', overwrite=True)\n",
    "table_rand.write(rand_path+'.fits', format='fits', overwrite=True)\n",
    "table_real.write(real_path+'.fits', format='fits', overwrite=True)"
   ]
  },
  {
   "cell_type": "code",
   "execution_count": 9,
   "id": "444db23e",
   "metadata": {},
   "outputs": [],
   "source": [
    "cache_dir = \"For_YAW/TEST\"  # create as needed\n",
    "reference_path = ref_path+'.fits'\n",
    "ref_rand_path = rand_path+'.fits'\n",
    "unknown_path = real_path+'.fits'\n",
    "fake_05_1_path = fake_unkn_05_1_path+'.fits'"
   ]
  },
  {
   "cell_type": "code",
   "execution_count": 10,
   "id": "d7979f29",
   "metadata": {},
   "outputs": [],
   "source": [
    "import os\n",
    "import shutil\n",
    "from yaw.utils import parallel\n",
    "\n",
    "def delete_and_recreate_cache_directory(cache_dir):\n",
    "    if parallel.on_root():  # if running with MPI, this is only executed on rank 0\n",
    "        if os.path.exists(cache_dir):\n",
    "            shutil.rmtree(cache_dir)\n",
    "        os.mkdir(cache_dir)"
   ]
  },
  {
   "cell_type": "code",
   "execution_count": 11,
   "id": "df9b00cf",
   "metadata": {},
   "outputs": [],
   "source": [
    "delete_and_recreate_cache_directory(cache_dir)"
   ]
  },
  {
   "cell_type": "code",
   "execution_count": 12,
   "id": "b8ce251e",
   "metadata": {},
   "outputs": [
    {
     "name": "stderr",
     "output_type": "stream",
     "text": [
      "processed 1/1 (100%) t=0m02.99s\n",
      "processed 1/1 (100%) t=0m01.54s\n"
     ]
    }
   ],
   "source": [
    "patch_num = 1\n",
    "\n",
    "cat_ref_rand = yaw.Catalog.from_file(\n",
    "    cache_directory=f\"{cache_dir}/ref_rand\",\n",
    "    path=ref_rand_path,\n",
    "    ra_name=\"ra\",\n",
    "    dec_name=\"dec\",\n",
    "    #weight_name=\"weight\",  # optional\n",
    "    redshift_name=\"redshifts\",  # required for reference\n",
    "    # patch_centers=None,\n",
    "    # patch_name=None,\n",
    "    patch_num=patch_num,\n",
    "    # degrees=True,\n",
    "    # overwrite=False,\n",
    "    progress=True,  # shows a progress bar, default: False\n",
    ")\n",
    "\n",
    "# extract the patch centers to use these for all following catalogs\n",
    "patch_centers = cat_ref_rand.get_centers()"
   ]
  },
  {
   "cell_type": "code",
   "execution_count": 103,
   "id": "10ab0cc4",
   "metadata": {},
   "outputs": [
    {
     "name": "stderr",
     "output_type": "stream",
     "text": [
      "processed 1/1 (100%) t=0m02.75s\n",
      "processed 1/1 (100%) t=0m01.46s\n",
      "processed 1/1 (100%) t=0m02.71s\n",
      "processed 1/1 (100%) t=0m01.46s\n"
     ]
    }
   ],
   "source": [
    "cat_reference = yaw.Catalog.from_file(\n",
    "    cache_directory=f\"{cache_dir}/reference\",\n",
    "    path=reference_path,\n",
    "    ra_name=\"ra\",\n",
    "    dec_name=\"dec\",\n",
    "    #weight_name=\"weight\",  # optional\n",
    "    redshift_name=\"redshifts\",  # required for reference\n",
    "    patch_centers=patch_centers,  # use previously computed centers\n",
    "    # patch_name=None,\n",
    "    # patch_num=None,\n",
    "    # degrees=True,\n",
    "    # overwrite=False,\n",
    "    progress=True,  # shows a progress bar, default: False\n",
    ")\n",
    "\n",
    "cat_unknown = yaw.Catalog.from_file(\n",
    "    cache_directory=f\"{cache_dir}/unknown\",\n",
    "    path=fake_05_1_path,\n",
    "    ra_name=\"ra\",\n",
    "    dec_name=\"dec\",\n",
    "    #weight_name=\"weight\",  # optional\n",
    "    # we don't know the redshifts here, so we skip the argument\n",
    "    patch_centers=patch_centers,  # use previously computed centers\n",
    "    # patch_name=None,\n",
    "    # patch_num=None,\n",
    "    # degrees=True,\n",
    "    # overwrite=False,\n",
    "    progress=True,  # shows a progress bar, default: False\n",
    ")\n",
    "\n",
    "cat_unk_rand = None  # would be constructed same as cat_unknown"
   ]
  },
  {
   "cell_type": "code",
   "execution_count": 129,
   "id": "089e21f8",
   "metadata": {},
   "outputs": [],
   "source": [
    "config = yaw.Configuration.create(\n",
    "    rmin=500.0,  # can also be a list of lower scale limits\n",
    "    rmax=1500.0, # can also be a list of upper scale limits\n",
    "    # unit=\"kpc\"  # defaults to angular diameter distance, but angles and\n",
    "                  # comoving transverse distance are supported\n",
    "    # rweight=None,     # if you want to weight pairs by scales\n",
    "    # resolution=None,  # resolution of weights in no. of log-scale bins\n",
    "    zmin=0.45,\n",
    "    zmax=1.05,\n",
    "    num_bins=50,\n",
    "    # method=\"linear\",\n",
    "    # edges=None,  # provide your custom bin edges\n",
    ")"
   ]
  },
  {
   "cell_type": "code",
   "execution_count": 130,
   "id": "efda4859",
   "metadata": {},
   "outputs": [
    {
     "name": "stderr",
     "output_type": "stream",
     "text": [
      "processed 1/1 (100%) t=0m01.61s\n",
      "processed 1/1 (100%) t=0m01.45s\n",
      "processed 1/1 (100%) t=0m01.80s\n",
      "processed 1/1 (100%) t=0m01.50s\n",
      "processed 1/1 (100%) t=0m01.48s\n"
     ]
    }
   ],
   "source": [
    "cts_ss_list = yaw.autocorrelate(\n",
    "    config,\n",
    "    cat_reference,\n",
    "    cat_ref_rand,\n",
    "    progress=True,  # shows a progress bar, default: False\n",
    ")\n"
   ]
  },
  {
   "cell_type": "code",
   "execution_count": 131,
   "id": "af92605c",
   "metadata": {},
   "outputs": [
    {
     "name": "stderr",
     "output_type": "stream",
     "text": [
      "processed 1/1 (100%) t=0m01.47s\n",
      "processed 1/1 (100%) t=0m01.48s\n",
      "processed 1/1 (100%) t=0m01.49s\n",
      "processed 1/1 (100%) t=0m01.63s\n",
      "processed 1/1 (100%) t=0m01.57s\n"
     ]
    }
   ],
   "source": [
    "\n",
    "cts_sp_list = yaw.crosscorrelate(\n",
    "    config,\n",
    "    cat_reference,\n",
    "    cat_unknown,\n",
    "    ref_rand=cat_ref_rand,\n",
    "    unk_rand=cat_unk_rand,\n",
    "    progress=True,  # shows a progress bar, default: False\n",
    ")"
   ]
  },
  {
   "cell_type": "code",
   "execution_count": 132,
   "id": "befaa5c0",
   "metadata": {},
   "outputs": [],
   "source": [
    "cts_ss = cts_ss_list[0]\n",
    "#cts_ss.to_file(\"w_ss.hdf5\")\n",
    "\n",
    "cts_sp = cts_sp_list[0]\n",
    "#cts_sp.to_file(\"w_sp.hdf5\")\n",
    "# restored = yaw.CorrFunc.from_file(\"w_sp.hdf5\")"
   ]
  },
  {
   "cell_type": "code",
   "execution_count": 133,
   "id": "fab60678",
   "metadata": {},
   "outputs": [
    {
     "data": {
      "text/plain": [
       "CorrFunc(counts=dd|rd, auto=False, binning=50 bins @ (0.450...1.050], num_patches=1)"
      ]
     },
     "execution_count": 133,
     "metadata": {},
     "output_type": "execute_result"
    }
   ],
   "source": [
    "cts_sp_list[0]"
   ]
  },
  {
   "cell_type": "code",
   "execution_count": 134,
   "id": "a3216b54",
   "metadata": {},
   "outputs": [
    {
     "name": "stderr",
     "output_type": "stream",
     "text": [
      "c:\\Users\\andre\\anaconda3\\envs\\YAW\\lib\\site-packages\\yaw\\correlation\\paircounts.py:564: RuntimeWarning: invalid value encountered in divide\n",
      "  samples = _counts.samples / _weights.samples\n",
      "c:\\Users\\andre\\anaconda3\\envs\\YAW\\lib\\site-packages\\yaw\\correlation\\paircounts.py:563: RuntimeWarning: invalid value encountered in divide\n",
      "  data = _counts.data / _weights.data\n"
     ]
    },
    {
     "data": {
      "text/plain": [
       "<Axes: >"
      ]
     },
     "execution_count": 134,
     "metadata": {},
     "output_type": "execute_result"
    },
    {
     "data": {
      "image/png": "[encoded data removed]",
      "text/plain": [
       "<Figure size 640x480 with 1 Axes>"
      ]
     },
     "metadata": {},
     "output_type": "display_data"
    }
   ],
   "source": [
    "import matplotlib.pyplot as plt\n",
    "\n",
    "w_sp = cts_sp.sample()  # creates a CorrFunc object\n",
    "w_sp.plot()  # automatic plot"
   ]
  },
  {
   "cell_type": "code",
   "execution_count": 135,
   "id": "18a46c75",
   "metadata": {},
   "outputs": [],
   "source": [
    "cts_sp.patches[3:6]  # subset with all pair counts involving patches 4 to 6\n",
    "cts_sp.bins[:5]  # subset with all pair counts of the first 5 redshift bins\n",
    "\n",
    "dd = cts_sp.dd  # access stored reference-unknown pair counts\n",
    "hello = dd.get_array()  # array with shape (num_bins, num_patches, num_patches)\n"
   ]
  },
  {
   "cell_type": "code",
   "execution_count": 136,
   "id": "cd5c991a",
   "metadata": {},
   "outputs": [
    {
     "name": "stderr",
     "output_type": "stream",
     "text": [
      "c:\\Users\\andre\\anaconda3\\envs\\YAW\\lib\\site-packages\\yaw\\correlation\\corrfunc.py:88: RuntimeWarning: divide by zero encountered in divide\n",
      "  return ((dd - dr) + (rr - rd)) / rr\n",
      "c:\\Users\\andre\\anaconda3\\envs\\YAW\\lib\\site-packages\\yaw\\redshifts.py:290: RuntimeWarning: invalid value encountered in sqrt\n",
      "  nz_data = w_sp_data / np.sqrt(dz2_data * w_ss_data * w_pp_data)\n"
     ]
    }
   ],
   "source": [
    "ncc = yaw.RedshiftData.from_corrfuncs(\n",
    "    cross_corr=cts_sp,\n",
    "    ref_corr=cts_ss,\n",
    "    # unk_corr=None,\n",
    ")"
   ]
  },
  {
   "cell_type": "code",
   "execution_count": 137,
   "id": "c617ca25",
   "metadata": {},
   "outputs": [
    {
     "data": {
      "text/plain": [
       "array([[nan, nan, nan, ..., nan, nan, nan],\n",
       "       [nan, nan, nan, ..., nan, nan, nan],\n",
       "       [nan, nan, nan, ..., nan, nan, nan],\n",
       "       ...,\n",
       "       [nan, nan, nan, ..., nan, nan, nan],\n",
       "       [nan, nan, nan, ..., nan, nan, nan],\n",
       "       [nan, nan, nan, ..., nan, nan, nan]], shape=(50, 50))"
      ]
     },
     "execution_count": 137,
     "metadata": {},
     "output_type": "execute_result"
    }
   ],
   "source": [
    "ncc.data  # length num_bins\n",
    "ncc.error  # length num_bins\n",
    "ncc.samples  # shape (num_samples=num_patches, num_bins)\n",
    "ncc.covariance  # shape (num_bins, num_bins)"
   ]
  },
  {
   "cell_type": "code",
   "execution_count": 138,
   "id": "89c7e956",
   "metadata": {},
   "outputs": [],
   "source": [
    "# Create a folder to store csv file\n",
    "output_folder_csvfile = 'C:/Users/andre/MasterCode/Code/YAW_results/TEST'\n",
    "os.makedirs(output_folder_csvfile, exist_ok=True)  # Creates the folder if it doesn't exist\n",
    "\n",
    "file_name = os.path.join(output_folder_csvfile, 'TEST')\n",
    "ncc.to_files(file_name)\n",
    "    # data/error         ->  nz_estimate.dat\n",
    "    # jackknife samples  ->  nz_estimate.smp\n",
    "    # covariance         ->  nz_estimate.cov\n",
    "# restored = yaw.RedshiftData.from_files(\"nz_estimate\")"
   ]
  },
  {
   "cell_type": "code",
   "execution_count": 139,
   "id": "209df1f3",
   "metadata": {},
   "outputs": [],
   "source": [
    "# ncc.plot(\n",
    "#     # label=None,\n",
    "#     # ax=None,  # plot to specific matplotlib axis\n",
    "#     # ...\n",
    "# )\n",
    "\n"
   ]
  },
  {
   "cell_type": "code",
   "execution_count": 148,
   "id": "6ad9e12b",
   "metadata": {},
   "outputs": [
    {
     "data": {
      "text/plain": [
       "CorrFunc(counts=dd|rd, auto=False, binning=50 bins @ (0.450...1.050], num_patches=1)"
      ]
     },
     "execution_count": 148,
     "metadata": {},
     "output_type": "execute_result"
    }
   ],
   "source": [
    "cts_sp.bins[:]"
   ]
  },
  {
   "cell_type": "code",
   "execution_count": 149,
   "id": "b953d51e",
   "metadata": {},
   "outputs": [
    {
     "name": "stdout",
     "output_type": "stream",
     "text": [
      "[            nan             nan             nan             nan\n",
      "             nan -1.55926588e+00             nan  3.72497483e+01\n",
      "             nan             nan             nan -8.83464679e+00\n",
      "             nan             nan  4.23028244e-01             nan\n",
      "  5.62955699e+00             nan             nan             nan\n",
      "             nan             nan -4.63832331e+00  2.49644571e+01\n",
      "             nan             nan -4.90393769e+00             nan\n",
      "  4.34553409e+00             nan  1.89068074e+01  5.73628987e-01\n",
      " -1.06434873e+01  3.09597186e+00             nan  4.95517904e+00\n",
      "  9.48086462e+00  6.50237456e+00             nan  2.20945448e-02\n",
      "             nan             nan             nan -1.99065063e+00\n",
      "             nan -2.45600776e-01             nan             nan\n",
      "             nan             nan]\n",
      "[nan nan nan nan nan nan nan nan nan nan nan nan nan nan nan nan nan nan\n",
      " nan nan nan nan nan nan nan nan nan nan nan nan nan nan nan nan nan nan\n",
      " nan nan nan nan nan nan nan nan nan nan nan nan nan nan]\n"
     ]
    }
   ],
   "source": [
    "print(ncc.normalised().data)\n",
    "print(ncc.normalised().error)"
   ]
  },
  {
   "cell_type": "code",
   "execution_count": 141,
   "id": "5c0f2d31",
   "metadata": {},
   "outputs": [
    {
     "data": {
      "text/plain": [
       "Text(0, 0.5, 'P(z)')"
      ]
     },
     "execution_count": 141,
     "metadata": {},
     "output_type": "execute_result"
    },
    {
     "data": {
      "image/png": "[encoded data removed]",
      "text/plain": [
       "<Figure size 640x480 with 1 Axes>"
      ]
     },
     "metadata": {},
     "output_type": "display_data"
    }
   ],
   "source": [
    "# or even with estimated normalisation\n",
    "ncc.normalised().plot()\n",
    "plt.xlabel('Redshift (z)')\n",
    "plt.ylabel('P(z)')"
   ]
  },
  {
   "cell_type": "code",
   "execution_count": null,
   "id": "322a8cd1",
   "metadata": {},
   "outputs": [],
   "source": []
  }
 ],
 "metadata": {
  "kernelspec": {
   "display_name": "YAW",
   "language": "python",
   "name": "python3"
  },
  "language_info": {
   "codemirror_mode": {
    "name": "ipython",
    "version": 3
   },
   "file_extension": ".py",
   "mimetype": "text/x-python",
   "name": "python",
   "nbconvert_exporter": "python",
   "pygments_lexer": "ipython3",
   "version": "3.10.18"
  }
 },
 "nbformat": 4,
 "nbformat_minor": 5
}
