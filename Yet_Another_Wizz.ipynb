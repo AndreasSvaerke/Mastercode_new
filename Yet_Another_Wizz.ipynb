{
 "cells": [
  {
   "cell_type": "code",
   "execution_count": 1,
   "id": "8207535b",
   "metadata": {},
   "outputs": [],
   "source": [
    "import yaw"
   ]
  },
  {
   "cell_type": "code",
   "execution_count": 2,
   "id": "fc0ebcbe",
   "metadata": {},
   "outputs": [],
   "source": [
    "ref_path = ('For_YAW/entire_reference_catalog')\n",
    "rand_path = ('For_YAW/Random_catalog')\n",
    "real_path = ('For_YAW/real_unknown_catalog')\n",
    "fake_unkn_05_1_path = ('For_YAW/fake_unknown_catalog_05_1')\n",
    "YAW_example_data_path = ('For_YAW/2dflens_kidss_data')\n",
    "YAW_example_rand_path = ('For_YAW/2dflens_kidss_rand_5x')"
   ]
  },
  {
   "cell_type": "code",
   "execution_count": 3,
   "id": "96b74787",
   "metadata": {},
   "outputs": [
    {
     "data": {
      "text/plain": [
       "'For_YAW/entire_reference_catalog.csv'"
      ]
     },
     "execution_count": 3,
     "metadata": {},
     "output_type": "execute_result"
    }
   ],
   "source": [
    "ref_path+'.csv'"
   ]
  },
  {
   "cell_type": "code",
   "execution_count": 4,
   "id": "32e23a58",
   "metadata": {},
   "outputs": [],
   "source": [
    "import pandas as pd\n",
    "\n",
    "df_ref = pd.read_csv(ref_path+'.csv')\n",
    "df_fake_05_1 = pd.read_csv(fake_unkn_05_1_path+'.csv')\n",
    "df_rand = pd.read_csv(rand_path+'.csv')\n",
    "df_real = pd.read_csv(real_path+'.csv')\n",
    "\n",
    "df_YAW_data = pd.read_parquet(YAW_example_data_path+'.pqt')\n",
    "df_YAW_rand = pd.read_parquet(YAW_example_rand_path+'.pqt')\n",
    "\n",
    "df_ref = df_ref.rename(columns={'redshift': 'redshifts'})\n",
    "\n",
    "df_YAW_data = df_YAW_data.rename(columns={'RA': 'ra',\n",
    "                                          'Dec': 'dec',\n",
    "                                          'redshift': 'redshifts'})\n",
    "\n",
    "df_YAW_rand = df_YAW_rand.rename(columns={'RA': 'ra',\n",
    "                                          'Dec': 'dec',\n",
    "                                          'redshift': 'redshifts'})\n",
    "\n",
    "df_YAW_unkn = df_YAW_data[(df_YAW_data['redshifts'] >= 0.3) & (df_YAW_data['redshifts'] < 0.5)].sample(n = 1000, random_state=42)\n",
    "df_Web_unkn = df_ref[(df_ref['redshifts'] >= 0.3) & (df_ref['redshifts'] < 0.5)].sample(n = 1000, random_state=42)"
   ]
  },
  {
   "cell_type": "code",
   "execution_count": 5,
   "id": "cb80d243",
   "metadata": {},
   "outputs": [],
   "source": [
    "import numpy as np\n",
    "def generate_randoms(s, e, n=1000, int = None):\n",
    "    if int is not None:\n",
    "        return np.random.randint(s, e, size=n)\n",
    "    else:\n",
    "        return np.random.uniform(s, e, size=n)\n",
    "\n",
    "df_rand['redshifts'] = generate_randoms(0.5, 1, len(df_rand))\n",
    "df_rand['patch'] = generate_randoms(0, 11, len(df_rand), int=True)\n",
    "df_fake_05_1['patch'] = generate_randoms(0, 11, len(df_fake_05_1), int=True)\n",
    "df_ref['patch'] = generate_randoms(0, 11, len(df_ref), int=True)\n",
    "df_Web_unkn['patch'] = generate_randoms(0, 11, len(df_Web_unkn), int=True)\n",
    "\n",
    "\n",
    "df_rand['wei'] = generate_randoms(0, 1, len(df_rand), int=None)\n",
    "df_fake_05_1['wei'] = generate_randoms(0, 1, len(df_fake_05_1), int=None)\n",
    "df_ref['wei'] = generate_randoms(0, 1, len(df_ref), int=None)\n",
    "df_Web_unkn['wei'] = generate_randoms(0, 1, len(df_Web_unkn), int=None)\n"
   ]
  },
  {
   "cell_type": "code",
   "execution_count": 6,
   "id": "feba3f2a",
   "metadata": {},
   "outputs": [],
   "source": [
    "from astropy.table import Table \n",
    "\n",
    "table_ref = Table.from_pandas(df_ref)\n",
    "#table_05_1 = Table.from_pandas(df_05_1)\n",
    "table_rand = Table.from_pandas(df_rand)\n",
    "table_fake_05_1 = Table.from_pandas(df_fake_05_1)\n",
    "table_real = Table.from_pandas(df_real)\n",
    "table_YAW_data = Table.from_pandas(df_YAW_data)\n",
    "table_YAW_rand = Table.from_pandas(df_YAW_rand)\n",
    "table_YAW_unkn = Table.from_pandas(df_YAW_unkn)\n",
    "table_Web_unkn = Table.from_pandas(df_Web_unkn)\n",
    "\n",
    "\n",
    "table_ref.write(ref_path+'.fits', format='fits', overwrite=True)\n",
    "#table_05_1.write('For_YAW/fake_unknown_catalog_05_1.fits', format='fits', overwrite=True)\n",
    "table_rand.write(rand_path+'.fits', format='fits', overwrite=True)\n",
    "table_real.write(real_path+'.fits', format='fits', overwrite=True)\n",
    "table_fake_05_1.write(fake_unkn_05_1_path+'.fits', format='fits', overwrite=True)\n",
    "table_Web_unkn.write('For_YAW/Web_unkn.fits', format='fits', overwrite=True)\n",
    "\n",
    "table_YAW_data.write(YAW_example_data_path+'.fits', format='fits', overwrite=True)\n",
    "table_YAW_rand.write(YAW_example_rand_path+'.fits', format='fits', overwrite=True)\n",
    "table_YAW_unkn.write(YAW_example_data_path+'unkn.fits', format='fits', overwrite=True)"
   ]
  },
  {
   "cell_type": "code",
   "execution_count": 7,
   "id": "444db23e",
   "metadata": {},
   "outputs": [],
   "source": [
    "cache_dir = \"For_YAW/TEST\"  # create as needed\n",
    "reference_path = ref_path+'.fits'\n",
    "ref_rand_path = rand_path+'.fits'\n",
    "unknown_path = real_path+'.fits'\n",
    "fake_05_1_path = fake_unkn_05_1_path+'.fits'\n",
    "Web_unkn_path = 'For_YAW/Web_unkn.fits'\n",
    "\n",
    "YAW_data_path = YAW_example_data_path+'.fits'\n",
    "YAW_rand_path = YAW_example_rand_path+'.fits'\n",
    "YAW_unkn_path = YAW_example_data_path+'unkn.fits'\n",
    "\n"
   ]
  },
  {
   "cell_type": "code",
   "execution_count": 8,
   "id": "b569c393",
   "metadata": {},
   "outputs": [],
   "source": [
    "#catalog_to_use =  reference_path \n",
    "catalog_to_use =  YAW_data_path\n",
    "\n",
    "#random_to_use =  ref_rand_path \n",
    "random_to_use =  YAW_rand_path\n",
    "\n",
    "#unknown_path_to_use =  Web_unkn_path\n",
    "unknown_path_to_use =  YAW_unkn_path\n",
    "\n",
    "patch_num = 11\n",
    "z_min_to_use = 0.15\n",
    "z_max_to_use = 1.5\n",
    "n_z_bins_to_use = 11\n",
    "patch_name_to_use = 'patch'\n",
    "#patch_name_to_use = None\n",
    "\n",
    "#weight_name_to_use = 'wei'\n",
    "weight_name_to_use = None"
   ]
  },
  {
   "cell_type": "code",
   "execution_count": 9,
   "id": "d7979f29",
   "metadata": {},
   "outputs": [],
   "source": [
    "import os\n",
    "import shutil\n",
    "from yaw.utils import parallel\n",
    "\n",
    "def delete_and_recreate_cache_directory(cache_dir):\n",
    "    if parallel.on_root():  # if running with MPI, this is only executed on rank 0\n",
    "        if os.path.exists(cache_dir):\n",
    "            shutil.rmtree(cache_dir)\n",
    "        os.mkdir(cache_dir)\n",
    "        \n",
    "delete_and_recreate_cache_directory(cache_dir)"
   ]
  },
  {
   "cell_type": "code",
   "execution_count": 10,
   "id": "10ab0cc4",
   "metadata": {},
   "outputs": [
    {
     "name": "stderr",
     "output_type": "stream",
     "text": [
      "processed 1/1 (100%) t=0m02.67s\n",
      "processed 11/11 (100%) t=0m02.07s\n",
      "processed 1/1 (100%) t=0m02.69s\n",
      "processed 11/11 (100%) t=0m02.06s\n",
      "processed 1/1 (100%) t=0m02.68s\n",
      "processed 11/11 (100%) t=0m02.05s\n"
     ]
    }
   ],
   "source": [
    "cat_ref_rand = yaw.Catalog.from_file(\n",
    "    cache_directory=f\"{cache_dir}/ref_rand\",\n",
    "    path=random_to_use,\n",
    "    ra_name=\"ra\",\n",
    "    dec_name=\"dec\",\n",
    "    weight_name=weight_name_to_use,  # optional\n",
    "    redshift_name=\"redshifts\",  # required for reference\n",
    "    # patch_centers=None,\n",
    "    patch_name=patch_name_to_use,\n",
    "    patch_num=patch_num,\n",
    "    # degrees=True,\n",
    "    # overwrite=False,\n",
    "    progress=True,  # shows a progress bar, default: False\n",
    ")\n",
    "\n",
    "# extract the patch centers to use these for all following catalogs\n",
    "patch_centers = cat_ref_rand.get_centers()\n",
    "\n",
    "\n",
    "cat_reference = yaw.Catalog.from_file(\n",
    "    cache_directory=f\"{cache_dir}/reference\",\n",
    "    path=catalog_to_use,\n",
    "    ra_name=\"ra\",\n",
    "    dec_name=\"dec\",\n",
    "    weight_name=weight_name_to_use,  # optional\n",
    "    redshift_name=\"redshifts\",  # required for reference\n",
    "    patch_centers=patch_centers,  # use previously computed centers\n",
    "    patch_name=patch_name_to_use,\n",
    "    # patch_num=None,\n",
    "    # degrees=True,\n",
    "    # overwrite=False,\n",
    "    progress=True,  # shows a progress bar, default: False\n",
    ")\n",
    "\n",
    "cat_unknown = yaw.Catalog.from_file(\n",
    "    cache_directory=f\"{cache_dir}/unknown\",\n",
    "    path=unknown_path_to_use,\n",
    "    ra_name=\"ra\",\n",
    "    dec_name=\"dec\",\n",
    "    weight_name=weight_name_to_use,  # optional\n",
    "    # we don't know the redshifts here, so we skip the argument\n",
    "    patch_centers=patch_centers,  # use previously computed centers\n",
    "    patch_name=patch_name_to_use,\n",
    "    # patch_num=None,\n",
    "    # degrees=True,\n",
    "    # overwrite=False,\n",
    "    progress=True,  # shows a progress bar, default: False\n",
    ")\n",
    "\n",
    "cat_unk_rand = None  # would be constructed same as cat_unknown"
   ]
  },
  {
   "cell_type": "code",
   "execution_count": 11,
   "id": "089e21f8",
   "metadata": {},
   "outputs": [],
   "source": [
    "config = yaw.Configuration.create(\n",
    "    rmin=500.0,  # can also be a list of lower scale limits\n",
    "    rmax=1500.0, # can also be a list of upper scale limits\n",
    "    # unit=\"kpc\"  # defaults to angular diameter distance, but angles and\n",
    "                  # comoving transverse distance are supported\n",
    "    # rweight=None,     # if you want to weight pairs by scales\n",
    "    # resolution=None,  # resolution of weights in no. of log-scale bins\n",
    "    zmin=z_min_to_use,\n",
    "    zmax=z_max_to_use,\n",
    "    num_bins=n_z_bins_to_use,\n",
    "    # method=\"linear\",\n",
    "    # edges=None,  # provide your custom bin edges\n",
    ")"
   ]
  },
  {
   "cell_type": "code",
   "execution_count": 12,
   "id": "efda4859",
   "metadata": {},
   "outputs": [
    {
     "name": "stderr",
     "output_type": "stream",
     "text": [
      "processed 11/11 (100%) t=0m02.08s\n",
      "processed 11/11 (100%) t=0m02.10s\n",
      "processed 23/23 (100%) t=0m02.79s\n",
      "processed 35/35 (100%) t=0m02.79s\n",
      "processed 23/23 (100%) t=0m02.80s\n",
      "processed 11/11 (100%) t=0m02.09s\n",
      "processed 11/11 (100%) t=0m02.07s\n",
      "processed 11/11 (100%) t=0m02.08s\n",
      "processed 35/35 (100%) t=0m02.79s\n",
      "processed 35/35 (100%) t=0m02.80s\n"
     ]
    }
   ],
   "source": [
    "cts_ss_list = yaw.autocorrelate(\n",
    "    config,\n",
    "    cat_reference,\n",
    "    cat_ref_rand,\n",
    "    progress=True,  # shows a progress bar, default: False\n",
    ")\n",
    "\n",
    "cts_sp_list = yaw.crosscorrelate(\n",
    "    config,\n",
    "    cat_reference,\n",
    "    cat_unknown,\n",
    "    ref_rand=cat_ref_rand,\n",
    "    unk_rand=cat_unk_rand,\n",
    "    progress=True,  # shows a progress bar, default: False\n",
    ")\n",
    "\n",
    "cts_ss = cts_ss_list[0]\n",
    "#cts_ss.to_file(\"w_ss.hdf5\")\n",
    "\n",
    "cts_sp = cts_sp_list[0]\n",
    "#cts_sp.to_file(\"w_sp.hdf5\")\n",
    "# restored = yaw.CorrFunc.from_file(\"w_sp.hdf5\")"
   ]
  },
  {
   "cell_type": "code",
   "execution_count": 13,
   "id": "cd5c991a",
   "metadata": {},
   "outputs": [
    {
     "name": "stderr",
     "output_type": "stream",
     "text": [
      "c:\\Users\\andre\\anaconda3\\envs\\YAW\\lib\\site-packages\\yaw\\correlation\\paircounts.py:563: RuntimeWarning: invalid value encountered in divide\n",
      "  data = _counts.data / _weights.data\n",
      "c:\\Users\\andre\\anaconda3\\envs\\YAW\\lib\\site-packages\\yaw\\correlation\\paircounts.py:564: RuntimeWarning: invalid value encountered in divide\n",
      "  samples = _counts.samples / _weights.samples\n"
     ]
    }
   ],
   "source": [
    "ncc = yaw.RedshiftData.from_corrfuncs(\n",
    "    cross_corr=cts_sp,\n",
    "    ref_corr=cts_ss,\n",
    "    # unk_corr=None,\n",
    ")"
   ]
  },
  {
   "cell_type": "code",
   "execution_count": 14,
   "id": "c617ca25",
   "metadata": {},
   "outputs": [],
   "source": [
    "# ncc.data  # length num_bins\n",
    "# ncc.error  # length num_bins\n",
    "# ncc.samples  # shape (num_samples=num_patches, num_bins)\n",
    "# ncc.covariance  # shape (num_bins, num_bins)"
   ]
  },
  {
   "cell_type": "code",
   "execution_count": 15,
   "id": "89c7e956",
   "metadata": {},
   "outputs": [],
   "source": [
    "# Create a folder to store csv file\n",
    "output_folder_csvfile = 'C:/Users/andre/MasterCode/Code/YAW_results/TEST'\n",
    "os.makedirs(output_folder_csvfile, exist_ok=True)  # Creates the folder if it doesn't exist\n",
    "\n",
    "file_name = os.path.join(output_folder_csvfile, 'TEST')\n",
    "ncc.to_files(file_name)\n",
    "    # data/error         ->  nz_estimate.dat\n",
    "    # jackknife samples  ->  nz_estimate.smp\n",
    "    # covariance         ->  nz_estimate.cov\n",
    "# restored = yaw.RedshiftData.from_files(\"nz_estimate\")"
   ]
  },
  {
   "cell_type": "code",
   "execution_count": 16,
   "id": "b953d51e",
   "metadata": {},
   "outputs": [
    {
     "name": "stdout",
     "output_type": "stream",
     "text": [
      "[-0.26564485  3.42673876  5.74172806 -0.10074949 -0.65392433         nan\n",
      "         nan         nan         nan         nan         nan]\n",
      "[1.06955879 1.8873617  1.59257775 1.03200465 1.68708209        nan\n",
      "        nan        nan        nan        nan        nan]\n"
     ]
    }
   ],
   "source": [
    "print(ncc.normalised().data)\n",
    "print(ncc.normalised().error)"
   ]
  },
  {
   "cell_type": "code",
   "execution_count": 17,
   "id": "eee6ba45",
   "metadata": {},
   "outputs": [
    {
     "data": {
      "text/plain": [
       "Text(0, 0.5, '?!?!?')"
      ]
     },
     "execution_count": 17,
     "metadata": {},
     "output_type": "execute_result"
    },
    {
     "data": {
      "image/png": "[encoded data removed]",
      "text/plain": [
       "<Figure size 1600x800 with 1 Axes>"
      ]
     },
     "metadata": {},
     "output_type": "display_data"
    }
   ],
   "source": [
    "import matplotlib.pyplot as plt\n",
    "plt.figure(figsize=(16,8))\n",
    "plt.title('TEST Redshift Distribution for 0.5-1 z sample')\n",
    "ncc.normalised().plot(style='point')\n",
    "#ncc.normalised().plot(style='line')\n",
    "ncc.normalised().plot(style='step')\n",
    "plt.xlim(z_min_to_use,z_max_to_use)\n",
    "plt.grid()\n",
    "plt.xlabel('Redshift (z)')\n",
    "plt.ylabel('?!?!?')"
   ]
  },
  {
   "cell_type": "code",
   "execution_count": null,
   "id": "d4ee5dfb",
   "metadata": {},
   "outputs": [],
   "source": []
  },
  {
   "cell_type": "code",
   "execution_count": null,
   "id": "29df76fe",
   "metadata": {},
   "outputs": [],
   "source": []
  },
  {
   "cell_type": "code",
   "execution_count": null,
   "id": "116c451b",
   "metadata": {},
   "outputs": [],
   "source": []
  }
 ],
 "metadata": {
  "kernelspec": {
   "display_name": "YAW",
   "language": "python",
   "name": "python3"
  },
  "language_info": {
   "codemirror_mode": {
    "name": "ipython",
    "version": 3
   },
   "file_extension": ".py",
   "mimetype": "text/x-python",
   "name": "python",
   "nbconvert_exporter": "python",
   "pygments_lexer": "ipython3",
   "version": "3.10.18"
  }
 },
 "nbformat": 4,
 "nbformat_minor": 5
}
