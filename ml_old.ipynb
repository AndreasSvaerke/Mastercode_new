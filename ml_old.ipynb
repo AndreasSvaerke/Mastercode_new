{
 "cells": [
  {
   "cell_type": "code",
   "execution_count": 1,
   "metadata": {},
   "outputs": [
    {
     "name": "stderr",
     "output_type": "stream",
     "text": [
      "c:\\Users\\andre\\anaconda3\\envs\\CNN\\Lib\\site-packages\\tqdm\\auto.py:21: TqdmWarning: IProgress not found. Please update jupyter and ipywidgets. See https://ipywidgets.readthedocs.io/en/stable/user_install.html\n",
      "  from .autonotebook import tqdm as notebook_tqdm\n"
     ]
    }
   ],
   "source": [
    "import torch.nn as nn\n",
    "import torchvision\n",
    "import torch\n",
    "from torchvision import transforms\n",
    "from torch.utils.data import DataLoader\n",
    "from datasets import load_dataset\n",
    "from datasets import DatasetDict\n",
    "from tqdm import tqdm\n",
    "from sklearn.metrics import f1_score\n",
    "from sklearn.metrics import confusion_matrix\n",
    "import seaborn as sns\n",
    "import matplotlib.pyplot as plt\n",
    "import numpy as np"
   ]
  },
  {
   "cell_type": "code",
   "execution_count": 2,
   "metadata": {},
   "outputs": [],
   "source": [
    "SEED = 42\n",
    "BATCH_SIZE = 64\n",
    "LEARNING_RATE = 0.001\n",
    "EPOCHS = 5"
   ]
  },
  {
   "cell_type": "code",
   "execution_count": 3,
   "metadata": {},
   "outputs": [],
   "source": [
    "torch.manual_seed(42)\n",
    "\n",
    "# Set cuda seed if cuda\n",
    "if torch.cuda.is_available():\n",
    "    torch.cuda.manual_seed(42)\n",
    "    torch.cuda.manual_seed_all(42)"
   ]
  },
  {
   "cell_type": "code",
   "execution_count": 4,
   "metadata": {},
   "outputs": [
    {
     "name": "stdout",
     "output_type": "stream",
     "text": [
      "2.6.0+cpu None\n",
      "Python exe: c:\\Users\\andre\\anaconda3\\envs\\CNN\\python.exe\n"
     ]
    }
   ],
   "source": [
    "import torch, sys\n",
    "print(torch.__version__, torch.version.cuda)    # will likely print None\n",
    "print(\"Python exe:\", sys.executable)"
   ]
  },
  {
   "cell_type": "code",
   "execution_count": 5,
   "metadata": {},
   "outputs": [],
   "source": [
    "# True old version\n",
    "# dataset = load_dataset('data')\n",
    "\n",
    "# # Split the dataset into train and test\n",
    "# train_test_split = dataset['train'].train_test_split(test_size=0.1, seed=SEED)\n",
    "\n",
    "# dataset = DatasetDict({\n",
    "#     'train': train_test_split['train'],\n",
    "#     'val': train_test_split['test'],\n",
    "#     'test': dataset['test'],\n",
    "# })"
   ]
  },
  {
   "cell_type": "code",
   "execution_count": 6,
   "metadata": {},
   "outputs": [],
   "source": [
    "dataset = load_dataset('data')\n",
    "\n",
    "# Split the dataset into train and test\n",
    "train_test_split = dataset['test'].train_test_split(test_size=0.5, seed=SEED,  stratify_by_column='label')\n",
    "\n",
    "dataset = DatasetDict({\n",
    "    'train': dataset['train'],\n",
    "    'val': train_test_split['train'],\n",
    "    'test': train_test_split['test'],\n",
    "})"
   ]
  },
  {
   "cell_type": "code",
   "execution_count": 7,
   "metadata": {},
   "outputs": [],
   "source": [
    "class MeanStdNormalize(nn.Module):\n",
    "    \"\"\"\n",
    "    Custom transform that normalizes a tensor such that:\n",
    "    - vmin = mean-std (maps to 0)\n",
    "    - vmax = mean+std (maps to 1)\n",
    "    \"\"\"\n",
    "    def __init__(self):\n",
    "        super().__init__()\n",
    "    \n",
    "    def forward(self, tensor):\n",
    "        mean = torch.mean(tensor)\n",
    "        std = torch.std(tensor)\n",
    "        \n",
    "        vmin = mean - std\n",
    "        vmax = mean + std\n",
    "        \n",
    "        # Apply min-max normalization with these bounds\n",
    "        normalized_tensor = (tensor - vmin) / (vmax - vmin)\n",
    "        \n",
    "        return normalized_tensor"
   ]
  },
  {
   "cell_type": "code",
   "execution_count": 8,
   "metadata": {},
   "outputs": [],
   "source": [
    "train_transform = transforms.Compose([\n",
    "    transforms.ToTensor(),          # Convert to PyTorch tensor\n",
    "    #transforms.RandomRotation(45),\n",
    "    transforms.RandomVerticalFlip(),\n",
    "    transforms.ColorJitter(brightness=0.1, contrast=0.1, saturation=0, hue=0),\n",
    "    transforms.RandomHorizontalFlip(),\n",
    "    MeanStdNormalize(),\n",
    "    # transforms.Normalize([0.5]*3, [0.5]*3)  # Normalize if needed\n",
    "])\n",
    "test_transform = transforms.Compose([\n",
    "    transforms.ToTensor(),          # Convert to PyTorch tensor\n",
    "    MeanStdNormalize(),\n",
    "    # transforms.Normalize([0.5]*3, [0.5]*3)  # Normalize if needed\n",
    "])\n",
    "\n",
    "def transform_examples(example, transform):\n",
    "    example[\"pixel_values\"] = [transform(image) for image in example[\"image\"]]\n",
    "    return example\n",
    "\n",
    "dataset[\"train\"].set_transform(lambda x: transform_examples(x, train_transform))\n",
    "dataset[\"val\"].set_transform(lambda x: transform_examples(x, test_transform))\n",
    "dataset[\"test\"].set_transform(lambda x: transform_examples(x, test_transform))"
   ]
  },
  {
   "cell_type": "code",
   "execution_count": 9,
   "metadata": {},
   "outputs": [],
   "source": [
    "def collate_fn(batch):\n",
    "    pixel_values = torch.stack([item[\"pixel_values\"] for item in batch])\n",
    "    labels = torch.tensor([item[\"label\"] for item in batch])\n",
    "    return {\"pixel_values\": pixel_values, \"label\": labels}\n",
    "\n",
    "train_loader = DataLoader(dataset[\"train\"], batch_size=BATCH_SIZE, shuffle=True, collate_fn=collate_fn)\n",
    "val_loader = DataLoader(dataset[\"val\"], batch_size=BATCH_SIZE, collate_fn=collate_fn)\n",
    "test_loader = DataLoader(dataset[\"test\"], batch_size=BATCH_SIZE, collate_fn=collate_fn)"
   ]
  },
  {
   "cell_type": "code",
   "execution_count": 10,
   "metadata": {},
   "outputs": [
    {
     "data": {
      "text/plain": [
       "tensor(0.7507, grad_fn=<SigmoidBackward0>)"
      ]
     },
     "execution_count": 10,
     "metadata": {},
     "output_type": "execute_result"
    }
   ],
   "source": [
    "class SmallResNet(nn.Module):\n",
    "    def __init__(self):\n",
    "        super().__init__()\n",
    "        self.resnet = torchvision.models.resnet50(weights=None)\n",
    "\n",
    "        \n",
    "        # Modify for smaller image input\n",
    "        self.resnet.conv1 = nn.Conv2d(3, 64, kernel_size=3, stride=1, padding=1, bias=False)\n",
    "        self.resnet.maxpool = nn.Identity()  # remove maxpool\n",
    "        \n",
    "        # Final classification layer\n",
    "        num_features = self.resnet.fc.in_features\n",
    "        self.resnet.fc = nn.Identity()\n",
    "        self.fc = nn.Linear(num_features, 1)\n",
    "\n",
    "    def forward(self, x):\n",
    "        x = self.resnet(x)\n",
    "        x = x.view(x.size(0), -1)\n",
    "        x = self.fc(x).squeeze()\n",
    "        x = torch.sigmoid(x)\n",
    "        return x\n",
    "    \n",
    "# Try an example\n",
    "example = collate_fn([dataset[\"train\"][0]])\n",
    "\n",
    "model = SmallResNet()\n",
    "model(example[\"pixel_values\"])"
   ]
  },
  {
   "cell_type": "code",
   "execution_count": 11,
   "metadata": {},
   "outputs": [],
   "source": [
    "model = SmallResNet()\n",
    "\n",
    "device = torch.device(\"cuda\" if torch.cuda.is_available() else \"cpu\")\n",
    "if torch.backends.mps.is_available():\n",
    "    device = torch.device(\"mps\")\n",
    "    print('Using MPS on Mac')\n",
    "model.to(device)\n",
    "\n",
    "optimizer = torch.optim.Adam(model.parameters(), lr=LEARNING_RATE)\n",
    "criterion = nn.BCELoss()"
   ]
  },
  {
   "cell_type": "code",
   "execution_count": 12,
   "metadata": {},
   "outputs": [
    {
     "name": "stderr",
     "output_type": "stream",
     "text": [
      "100%|██████████| 63/63 [03:28<00:00,  3.31s/it]\n"
     ]
    },
    {
     "name": "stdout",
     "output_type": "stream",
     "text": [
      "Epoch 1/5, Accuracy: 57.66%, Precision: 0.1333, Recall: 0.4286, F1 Score: 0.2034\n"
     ]
    },
    {
     "data": {
      "image/png": "[encoded data removed]",
      "text/plain": [
       "<Figure size 500x400 with 2 Axes>"
      ]
     },
     "metadata": {},
     "output_type": "display_data"
    },
    {
     "name": "stdout",
     "output_type": "stream",
     "text": [
      "New best model saved with F1 Score: 0.2034\n"
     ]
    },
    {
     "name": "stderr",
     "output_type": "stream",
     "text": [
      "100%|██████████| 63/63 [03:02<00:00,  2.90s/it]\n"
     ]
    },
    {
     "name": "stdout",
     "output_type": "stream",
     "text": [
      "Epoch 2/5, Accuracy: 88.29%, Precision: 0.6667, Recall: 0.1429, F1 Score: 0.2353\n"
     ]
    },
    {
     "data": {
      "image/png": "[encoded data removed]",
      "text/plain": [
       "<Figure size 500x400 with 2 Axes>"
      ]
     },
     "metadata": {},
     "output_type": "display_data"
    },
    {
     "name": "stdout",
     "output_type": "stream",
     "text": [
      "New best model saved with F1 Score: 0.2353\n"
     ]
    },
    {
     "name": "stderr",
     "output_type": "stream",
     "text": [
      "100%|██████████| 63/63 [03:02<00:00,  2.90s/it]\n"
     ]
    },
    {
     "name": "stdout",
     "output_type": "stream",
     "text": [
      "Epoch 3/5, Accuracy: 91.89%, Precision: 0.8571, Recall: 0.4286, F1 Score: 0.5714\n"
     ]
    },
    {
     "data": {
      "image/png": "[encoded data removed]",
      "text/plain": [
       "<Figure size 500x400 with 2 Axes>"
      ]
     },
     "metadata": {},
     "output_type": "display_data"
    },
    {
     "name": "stdout",
     "output_type": "stream",
     "text": [
      "New best model saved with F1 Score: 0.5714\n"
     ]
    },
    {
     "name": "stderr",
     "output_type": "stream",
     "text": [
      "100%|██████████| 63/63 [03:02<00:00,  2.90s/it]\n"
     ]
    },
    {
     "name": "stdout",
     "output_type": "stream",
     "text": [
      "Epoch 4/5, Accuracy: 87.39%, Precision: 0.5000, Recall: 0.3571, F1 Score: 0.4167\n"
     ]
    },
    {
     "data": {
      "image/png": "[encoded data removed]",
      "text/plain": [
       "<Figure size 500x400 with 2 Axes>"
      ]
     },
     "metadata": {},
     "output_type": "display_data"
    },
    {
     "name": "stderr",
     "output_type": "stream",
     "text": [
      "100%|██████████| 63/63 [15:53<00:00, 15.14s/it] \n"
     ]
    },
    {
     "name": "stdout",
     "output_type": "stream",
     "text": [
      "Epoch 5/5, Accuracy: 90.09%, Precision: 0.7143, Recall: 0.3571, F1 Score: 0.4762\n"
     ]
    },
    {
     "data": {
      "image/png": "[encoded data removed]",
      "text/plain": [
       "<Figure size 500x400 with 2 Axes>"
      ]
     },
     "metadata": {},
     "output_type": "display_data"
    }
   ],
   "source": [
    "best_f1 = 0.0  # Initialize best F1 score\n",
    "best_precision = 0.0 # Initialize best precision score\n",
    "best_recall = 0.0 # Initialize best recall score\n",
    "best_accuracy =  0.0 # Initialize best accuracy score\n",
    "\n",
    "for epoch in range(EPOCHS):\n",
    "    model.train()\n",
    "    for batch in tqdm(train_loader):\n",
    "        inputs = batch[\"pixel_values\"].to(device)\n",
    "        labels = batch[\"label\"].float().to(device)\n",
    "        outputs = model(inputs)\n",
    "        loss = criterion(outputs, labels)\n",
    "\n",
    "        optimizer.zero_grad()\n",
    "        loss.backward()\n",
    "        optimizer.step()\n",
    "\n",
    "    model.eval()\n",
    "    with torch.no_grad():\n",
    "        correct = 0\n",
    "        total = 0\n",
    "        all_preds = []\n",
    "        all_labels = []\n",
    "\n",
    "        for batch in val_loader:\n",
    "            inputs = batch[\"pixel_values\"].to(device)\n",
    "            labels = batch[\"label\"].to(device)\n",
    "\n",
    "            outputs = model(inputs)\n",
    "            predicted = (outputs > 0.5).long().view(-1)\n",
    "            labels = labels.view(-1).long()\n",
    "\n",
    "            total += labels.size(0)\n",
    "            correct += predicted.eq(labels).sum().item()\n",
    "\n",
    "            all_preds.extend(predicted.cpu().numpy())\n",
    "            all_labels.extend(labels.cpu().numpy())\n",
    "\n",
    "        accuracy = 100. * correct / total\n",
    "        f1 = f1_score(all_labels, all_preds, average='binary')\n",
    "\n",
    "        #find true positives, false positives, true negatives, false negatives\n",
    "        tp = sum((np.array(all_labels) == 1) & (np.array(all_preds) == 1))\n",
    "        tn = sum((np.array(all_labels) == 0) & (np.array(all_preds) == 0))\n",
    "        fp = sum((np.array(all_labels) == 0) & (np.array(all_preds) == 1))\n",
    "        fn = sum((np.array(all_labels) == 1) & (np.array(all_preds) == 0))\n",
    "\n",
    "        #Find precision, recall\n",
    "        precision = tp / (tp + fp) if (tp + fp) > 0 else 0\n",
    "        recall = tp / (tp + fn) if (tp + fn) > 0 else 0\n",
    "\n",
    "        print(f'Epoch {epoch+1}/{EPOCHS}, Accuracy: {accuracy:.2f}%, Precision: {precision:.4f}, Recall: {recall:.4f}, F1 Score: {f1:.4f}')\n",
    "\n",
    "        # Confusion matrix\n",
    "        \n",
    "        cm = confusion_matrix(all_labels, all_preds)\n",
    "        #print(\"Confusion Matrix:\")\n",
    "        #print(cm)\n",
    "\n",
    "        plt.figure(figsize=(5, 4))\n",
    "        sns.heatmap(cm, annot=True, fmt=\"d\", cmap=\"Blues\", xticklabels=[\"Pred 0\", \"Pred 1\"], yticklabels=[\"True 0\", \"True 1\"])\n",
    "        plt.xlabel(\"Predicted\")\n",
    "        plt.ylabel(\"True\")\n",
    "        plt.title(f\"Epoch {epoch+1} Confusion Matrix\")\n",
    "        plt.show()\n",
    "\n",
    "        # Save best model based on precision      \n",
    "        # if precision > best_precision:\n",
    "        #       best_precision = precision\n",
    "        #       torch.save(model.state_dict(), \"best_model.pth\")\n",
    "        #       print(f\"New best model saved with Precision: {best_precision:.4f}\")  \n",
    "\n",
    "        # Save best model based on F1 score\n",
    "        if f1 > best_f1:\n",
    "            best_f1 = f1\n",
    "            torch.save(model.state_dict(), \"best_model.pth\")\n",
    "            print(f\"New best model saved with F1 Score: {best_f1:.4f}\")\n",
    "\n",
    "        # Save best model based on Recall\n",
    "        # if recall > best_recall:\n",
    "        #     best_recall = recall\n",
    "        #     torch.save(model.state_dict(), \"best_model.pth\")\n",
    "        #     print(f\"New best model saved with Recall Score: {best_recall:.4f}\")\n",
    "\n",
    "        # Save best model based on all four metrics\n",
    "        # if precision >= best_precision and f1 >= best_f1 and recall >= best_recall and accuracy >= best_accuracy:\n",
    "        #     best_accuracy = accuracy\n",
    "        #     best_precision = precision\n",
    "        #     best_f1 = f1\n",
    "        #     best_recall = recall\n",
    "        #     torch.save(model.state_dict(), \"best_model.pth\")\n",
    "        #     print(f\"New best model saved with Accuracy: {best_accuracy:.4f}, Precision: {best_precision:.4f}, F1 Score: {best_f1:.4f}, Recall Score: {best_recall:.4f}\")"
   ]
  },
  {
   "cell_type": "code",
   "execution_count": 13,
   "metadata": {},
   "outputs": [
    {
     "name": "stdout",
     "output_type": "stream",
     "text": [
      "Test Accuracy: 91.89%, Test F1 Score: 0.5714\n"
     ]
    },
    {
     "data": {
      "image/png": "[encoded data removed]",
      "text/plain": [
       "<Figure size 500x400 with 2 Axes>"
      ]
     },
     "metadata": {},
     "output_type": "display_data"
    }
   ],
   "source": [
    "#confusion matrix on the validation set\n",
    "model.load_state_dict(torch.load(\"best_model.pth\"))\n",
    "model.eval()\n",
    "with torch.no_grad():\n",
    "    correct = 0\n",
    "    total = 0\n",
    "    all_preds = []\n",
    "    all_labels = []\n",
    "\n",
    "    for batch in val_loader:\n",
    "        inputs = batch[\"pixel_values\"].to(device)\n",
    "        labels = batch[\"label\"].to(device)\n",
    "\n",
    "        outputs = model(inputs)\n",
    "        predicted = (outputs > 0.5).long().view(-1)\n",
    "        labels = labels.view(-1).long()\n",
    "\n",
    "        total += labels.size(0)\n",
    "        correct += predicted.eq(labels).sum().item()\n",
    "\n",
    "        all_preds.extend(predicted.cpu().numpy())\n",
    "        all_labels.extend(labels.cpu().numpy())\n",
    "\n",
    "    accuracy = 100. * correct / total\n",
    "    f1 = f1_score(all_labels, all_preds, average='binary')\n",
    "\n",
    "    print(f'Test Accuracy: {accuracy:.2f}%, Test F1 Score: {f1:.4f}')\n",
    "\n",
    "    # Confusion matrix\n",
    "    cm = confusion_matrix(all_labels, all_preds)\n",
    "    #print(\"Confusion Matrix:\")\n",
    "    #print(cm)\n",
    "\n",
    "    plt.figure(figsize=(5, 4))\n",
    "    sns.heatmap(cm, annot=True, fmt=\"d\", cmap=\"Blues\", xticklabels=[\"Pred 0\", \"Pred 1\"], yticklabels=[\"True 0\", \"True 1\"])\n",
    "    plt.xlabel(\"Predicted\")\n",
    "    plt.ylabel(\"True\")\n",
    "    plt.title(f\"Validation Confusion Matrix\")\n",
    "    plt.show()"
   ]
  },
  {
   "cell_type": "code",
   "execution_count": 14,
   "metadata": {},
   "outputs": [
    {
     "name": "stdout",
     "output_type": "stream",
     "text": [
      "Test Accuracy: 84.68%, Test F1 Score: 0.1905\n"
     ]
    },
    {
     "data": {
      "image/png": "[encoded data removed]",
      "text/plain": [
       "<Figure size 500x400 with 2 Axes>"
      ]
     },
     "metadata": {},
     "output_type": "display_data"
    }
   ],
   "source": [
    "#confusion matrix on the test set\n",
    "model.load_state_dict(torch.load(\"best_model.pth\"))\n",
    "model.eval()\n",
    "with torch.no_grad():\n",
    "    correct = 0\n",
    "    total = 0\n",
    "    all_preds = []\n",
    "    all_labels = []\n",
    "\n",
    "    for batch in test_loader:\n",
    "        inputs = batch[\"pixel_values\"].to(device)\n",
    "        labels = batch[\"label\"].to(device)\n",
    "\n",
    "        outputs = model(inputs)\n",
    "        predicted = (outputs > 0.5).long().view(-1)\n",
    "        labels = labels.view(-1).long()\n",
    "\n",
    "        total += labels.size(0)\n",
    "        correct += predicted.eq(labels).sum().item()\n",
    "\n",
    "        all_preds.extend(predicted.cpu().numpy())\n",
    "        all_labels.extend(labels.cpu().numpy())\n",
    "\n",
    "    accuracy = 100. * correct / total\n",
    "    f1 = f1_score(all_labels, all_preds, average='binary')\n",
    "\n",
    "    print(f'Test Accuracy: {accuracy:.2f}%, Test F1 Score: {f1:.4f}')\n",
    "\n",
    "    # Confusion matrix\n",
    "    cm = confusion_matrix(all_labels, all_preds)\n",
    "    #print(\"Confusion Matrix:\")\n",
    "    #print(cm)\n",
    "\n",
    "    plt.figure(figsize=(5, 4))\n",
    "    sns.heatmap(cm, annot=True, fmt=\"d\", cmap=\"Blues\", xticklabels=[\"Pred 0\", \"Pred 1\"], yticklabels=[\"True 0\", \"True 1\"])\n",
    "    plt.xlabel(\"Predicted\")\n",
    "    plt.ylabel(\"True\")\n",
    "    plt.title(f\"Test Confusion Matrix\")\n",
    "    plt.show()"
   ]
  },
  {
   "cell_type": "code",
   "execution_count": 20,
   "metadata": {},
   "outputs": [],
   "source": [
    "path = 'C:/Users/andre/MasterCode/Transient_images/Stacked_images_for_CNN/obs17'"
   ]
  },
  {
   "cell_type": "code",
   "execution_count": 21,
   "metadata": {},
   "outputs": [
    {
     "name": "stderr",
     "output_type": "stream",
     "text": [
      "Processing Images: 100%|██████████| 5478/5478 [04:13<00:00, 21.62it/s]\n"
     ]
    }
   ],
   "source": [
    "import os\n",
    "from processing import preprocessing\n",
    "from matplotlib import pyplot as plt\n",
    "from PIL import Image\n",
    "import numpy as np\n",
    "from astropy.table import QTable\n",
    "from tqdm import tqdm  # Import tqdm\n",
    "\n",
    "# Load best model\n",
    "model = SmallResNet()\n",
    "model.load_state_dict(torch.load(\"best_model.pth\"))\n",
    "model.eval()\n",
    "\n",
    "\n",
    "\n",
    "table = QTable(names=('ID','RA','DEC','Prediction'),dtype=('S10','f8','f8','f8'))\n",
    "\n",
    "# Process all images in Stacked_images_for_cnn\n",
    "\n",
    "image_paths = os.listdir(path)\n",
    "\n",
    "# Create a folder to store images\n",
    "output_folder_images = \"C:/Users/andre/MasterCode/Transient_images/Predicted_images/\"+ path[-5:] + \"/\"\n",
    "os.makedirs(output_folder_images, exist_ok=True)  # Creates the folder if it doesn't exist\n",
    "\n",
    "# Create a folder to store csv file\n",
    "output_folder_csvfile = \"C:/Users/andre/MasterCode/Code/Predicted_transients\"\n",
    "os.makedirs(output_folder_csvfile, exist_ok=True)  # Creates the folder if it doesn't exist\n",
    "\n",
    "# Use tqdm to create a progress bar\n",
    "for i, image_path in tqdm(enumerate(image_paths), total=len(image_paths), desc=\"Processing Images\"):\n",
    "\n",
    "    tensor = preprocessing(f'{path}/{image_path}')\n",
    "\n",
    "    # Transform tensor using test_transform\n",
    "    tensor = test_transform(tensor)\n",
    "\n",
    "    # Add batch dimension\n",
    "    tensor = tensor.unsqueeze(0)\n",
    "\n",
    "    # Predict\n",
    "    with torch.no_grad():\n",
    "        output = model(tensor)\n",
    "        prediction = (output > 0.85).item()\n",
    "\n",
    "    # Processing images with prediction 1\n",
    "    if prediction == 1:\n",
    "        image = Image.open(f'{path}/{image_path}').convert('L')  # Convert image to grayscale\n",
    "        mean, std = np.nanmean(image), np.nanstd(image)\n",
    "        # Display the image\n",
    "        #print(f\"Image: {image_path}, Prediction: {output.item()}\")\n",
    "        plt.imshow(image, vmin=mean-std, vmax=mean+std)\n",
    "        #plt.show()\n",
    "        #Save the image instead of showing it\n",
    "        filename = os.path.join(output_folder_images, f\"{image_path}\")\n",
    "        plt.savefig(filename, dpi=300, bbox_inches='tight', pad_inches=0)\n",
    "        plt.close()\n",
    "\n",
    "    # write the name and prediction to the table\n",
    "    name = os.path.splitext(image_path)[0]\n",
    "    id_ra_dec = name.split('_')\n",
    "    id = id_ra_dec[0]\n",
    "    ra = float(id_ra_dec[1])\n",
    "    dec = float(id_ra_dec[2])\n",
    "    table.add_row([id, ra, dec, prediction])\n",
    "\n",
    "csv_file_name = os.path.join(output_folder_csvfile, 'Predicted_transients_'+path[-5:]+'.csv')\n",
    "\n",
    "table.write(csv_file_name, format='csv', overwrite=True)"
   ]
  },
  {
   "cell_type": "code",
   "execution_count": null,
   "metadata": {},
   "outputs": [],
   "source": []
  },
  {
   "cell_type": "code",
   "execution_count": null,
   "metadata": {},
   "outputs": [],
   "source": []
  },
  {
   "cell_type": "code",
   "execution_count": null,
   "metadata": {},
   "outputs": [],
   "source": []
  },
  {
   "cell_type": "code",
   "execution_count": null,
   "metadata": {},
   "outputs": [],
   "source": []
  }
 ],
 "metadata": {
  "kernelspec": {
   "display_name": "CNN",
   "language": "python",
   "name": "python3"
  },
  "language_info": {
   "codemirror_mode": {
    "name": "ipython",
    "version": 3
   },
   "file_extension": ".py",
   "mimetype": "text/x-python",
   "name": "python",
   "nbconvert_exporter": "python",
   "pygments_lexer": "ipython3",
   "version": "3.13.2"
  }
 },
 "nbformat": 4,
 "nbformat_minor": 2
}
