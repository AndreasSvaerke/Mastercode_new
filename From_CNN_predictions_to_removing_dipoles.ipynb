{
 "cells": [
  {
   "cell_type": "code",
   "execution_count": 33,
   "id": "7d6fdf83",
   "metadata": {},
   "outputs": [],
   "source": [
    "from python_files.open_fits_file import openfits\n",
    "path_to_data = 'C:/Users/andre/MasterCode/Grizli_transient_data/obs17'\n",
    "names, Data, Header= openfits(path_to_data)"
   ]
  },
  {
   "cell_type": "code",
   "execution_count": 34,
   "id": "1461a1e5",
   "metadata": {},
   "outputs": [],
   "source": [
    "#        old      new      diff     150      200      277     356       444\n",
    "data = [Data[2], Data[1], Data[0], Data[3], Data[4], Data[5], Data[6], Data[7]]\n",
    "header = [Header[2], Header[1], Header[0], Header[3], Header[4], Header[5], Header[6], Header[7]]"
   ]
  },
  {
   "cell_type": "code",
   "execution_count": 35,
   "id": "d8c990ab",
   "metadata": {},
   "outputs": [],
   "source": [
    "import numpy as np\n",
    "import matplotlib.pyplot as plt\n",
    "def plot_image(Data, ep=1):\n",
    "    file = Data\n",
    "    mean = np.mean(file)\n",
    "    std = np.std(file)\n",
    "    plt.imshow(file, vmin=mean-ep*std, vmax=mean+ep*std)"
   ]
  },
  {
   "cell_type": "code",
   "execution_count": 36,
   "id": "ab1af80b",
   "metadata": {},
   "outputs": [],
   "source": [
    "#Confirmation that 0 = old, 2 = diff\n",
    "# plt.figure(figsize=(16,8))\n",
    "# plt.subplot(1, 3, 1)\n",
    "# plot_image(data[0][5000:10000,5000:10000])\n",
    "# plt.subplot(1, 3, 2)\n",
    "# plot_image(data[1][5000:10000,5000:10000])\n",
    "# plt.subplot(1, 3, 3)\n",
    "# plot_image(data[2][5000:10000,5000:10000])\n"
   ]
  },
  {
   "cell_type": "code",
   "execution_count": 37,
   "id": "42480d01",
   "metadata": {},
   "outputs": [],
   "source": [
    "import csv\n",
    "\n",
    "# Open the CSV file\n",
    "path_to_CNN_predictions = 'C:/Users/andre/MasterCode/Code/Predicted_transients/Predicted_transients_'+path_to_data[-5:]+'.csv'\n",
    "with open(path_to_CNN_predictions, mode='r') as file:\n",
    "    transients = []\n",
    "    non_transients = []\n",
    "    # Create a CSV reader object\n",
    "    csv_reader = csv.reader(file)\n",
    "    next(csv_reader)  # Skip the header row\n",
    "    # Iterate through each row in the CSV file\n",
    "    for row in csv_reader:\n",
    "        if row[3] == '1.0':\n",
    "            transients.append(row)\n",
    "        if row[3] == '0.0':\n",
    "            non_transients.append(row)\n",
    "            #print(row)  # Each row is a list of strings"
   ]
  },
  {
   "cell_type": "code",
   "execution_count": 38,
   "id": "00a0b20c",
   "metadata": {},
   "outputs": [],
   "source": [
    "from python_files.Find_magnitude import magnitude_in_each_band, flux_from_mag_AB, magnitude_in_each_band_with_aperture\n",
    "from python_files.Find_Skycoords import find_skycoords\n",
    "from python_files.convert_sky_phy import find_skycoord_in_physical"
   ]
  },
  {
   "cell_type": "code",
   "execution_count": 39,
   "id": "ec7c0003",
   "metadata": {},
   "outputs": [],
   "source": [
    "transients_skycoords = find_skycoords(transients)\n",
    "\n",
    "#The positions are found in the difference images, so we need to use the header of the difference image to convert them to physical coordinates.\n",
    "xy_transients = find_skycoord_in_physical(header[2], transients_skycoords)\n",
    "\n",
    "mag_transients = magnitude_in_each_band_with_aperture(transients_skycoords, data, header)\n",
    "\n"
   ]
  },
  {
   "cell_type": "code",
   "execution_count": 40,
   "id": "da551c05",
   "metadata": {},
   "outputs": [],
   "source": [
    "def round_mag(magnitudes, r=3):\n",
    "    rounded_magnitude = []\n",
    "    for mag in magnitudes:\n",
    "        rounded_mag = []\n",
    "        for m in mag:\n",
    "            if m == 99 or m == -99:\n",
    "                rounded_m = round(m,r)\n",
    "            else:\n",
    "                rounded_m = round(m.value,r)\n",
    "            rounded_mag.append(rounded_m)\n",
    "        rounded_magnitude.append(rounded_mag)\n",
    "    return rounded_magnitude\n",
    "    \n",
    "def add_row_to_table(ID, VIflag, skycoords, phycoords, magnitudes, table):\n",
    "    for i in range(len(skycoords)):\n",
    "        mag = magnitudes[i]\n",
    "        sky = skycoords[i]\n",
    "        phy = phycoords[i]\n",
    "        table.add_row([ID, sky.ra.value, sky.dec.value, phy[0],phy[1], f'{VIflag}', mag[0], mag[1], mag[2], mag[3], mag[4], mag[5], mag[6], mag[7]])"
   ]
  },
  {
   "cell_type": "code",
   "execution_count": 41,
   "id": "ca3155a7",
   "metadata": {},
   "outputs": [],
   "source": [
    "rounded_mag = round_mag(mag_transients)"
   ]
  },
  {
   "cell_type": "code",
   "execution_count": 42,
   "id": "6c605a56",
   "metadata": {},
   "outputs": [],
   "source": [
    "transients_with_magnitude = []\n",
    "for i in range(len(transients_skycoords)):\n",
    "    mag = rounded_mag[i]\n",
    "    sky = transients_skycoords[i]\n",
    "    phy = xy_transients[i]\n",
    "    transients_with_magnitude.append([path_to_data[-5:], sky.ra.deg, sky.dec.deg, phy[0], phy[1], f'{1}', mag[0], mag[1], mag[2], mag[3], mag[4], mag[5], mag[6], mag[7]])"
   ]
  },
  {
   "cell_type": "code",
   "execution_count": 43,
   "id": "76f6a6e3",
   "metadata": {},
   "outputs": [],
   "source": [
    "from python_files.Find_magnitude import find_limiting_magnitude"
   ]
  },
  {
   "cell_type": "code",
   "execution_count": 44,
   "id": "e6acf81c",
   "metadata": {},
   "outputs": [
    {
     "name": "stdout",
     "output_type": "stream",
     "text": [
      "Limiting magnitude in F115W: 5 sigma: 26.75353483717402\n",
      "Limiting magnitude in F200W: 3 sigma: 25.84375354475108\n",
      "Limiting magnitude in F356W: 3 sigma: 28.458150752251967\n"
     ]
    }
   ],
   "source": [
    "bkgmag_115 = find_limiting_magnitude('F115W', data[1], header[1], if_hist = 0)#, n_apertures=2000)\n",
    "print(f'Limiting magnitude in F115W: 5 sigma: {bkgmag_115[2]}')\n",
    "\n",
    "bkgmag_200 = find_limiting_magnitude('F200W', data[4], header[4], if_hist = 0)#, n_apertures=2000)\n",
    "print(f'Limiting magnitude in F200W: 3 sigma: {bkgmag_200[1]}')\n",
    "\n",
    "bkgmag_356 = find_limiting_magnitude('F356W', data[6], header[6], if_hist = 0)#, n_apertures=2000)\n",
    "print(f'Limiting magnitude in F356W: 3 sigma: {bkgmag_356[1]}')\n",
    "\n",
    "limiting_magnitudes = [bkgmag_115[2], bkgmag_200[1], bkgmag_356[1]]\n",
    "#                         5 sigma       3 sigma        3 sigma\n"
   ]
  },
  {
   "cell_type": "code",
   "execution_count": 45,
   "id": "56437a4f",
   "metadata": {},
   "outputs": [],
   "source": [
    "def verify_transient_in_two_filters(transient_csv, limiting_magnitude):\n",
    "    \"\"\"\n",
    "    Keep only transients that are brighter than the limiting magnitude in F115W\n",
    "    *and* in at least one of F200W or F356W.  A transient is never appended more\n",
    "    than once.\n",
    "    \"\"\"\n",
    "    real_transients = []\n",
    "    lim = limiting_magnitude          # (F115W, F200W, F356W) limiting mags\n",
    "\n",
    "    for tr in transient_csv:\n",
    "        f115w_mag = float(tr[7])\n",
    "        f200w_mag = float(tr[10])\n",
    "        f356w_mag = float(tr[12])\n",
    "\n",
    "        # First branch: F115W + F200W\n",
    "        if f200w_mag != -99 and f115w_mag < lim[0] and f200w_mag < lim[1]:\n",
    "            real_transients.append(tr)\n",
    "\n",
    "        # Second branch: F115W + F356W, but only if not already added\n",
    "        if (\n",
    "            f356w_mag != -99\n",
    "            and f115w_mag < lim[0]\n",
    "            and f356w_mag < lim[2]\n",
    "            and tr not in real_transients        # <- duplication guard\n",
    "        ):\n",
    "            real_transients.append(tr)\n",
    "\n",
    "    return real_transients"
   ]
  },
  {
   "cell_type": "code",
   "execution_count": 46,
   "id": "f50770bd",
   "metadata": {},
   "outputs": [
    {
     "name": "stdout",
     "output_type": "stream",
     "text": [
      "8\n"
     ]
    }
   ],
   "source": [
    "verified_transients = verify_transient_in_two_filters(transients_with_magnitude, limiting_magnitudes)\n",
    "print(len(verified_transients))"
   ]
  },
  {
   "cell_type": "code",
   "execution_count": 47,
   "id": "b9d0085f",
   "metadata": {},
   "outputs": [],
   "source": [
    "from python_files.convert_sky_phy import find_skycoord_in_physical_from_nonSkycoords\n",
    "verified_skycoords = find_skycoord_in_physical_from_nonSkycoords(header[2], verified_transients)"
   ]
  },
  {
   "cell_type": "code",
   "execution_count": 48,
   "id": "fbe0bdfd",
   "metadata": {},
   "outputs": [
    {
     "name": "stdout",
     "output_type": "stream",
     "text": [
      "5\n"
     ]
    }
   ],
   "source": [
    "from python_files.remove_dipoles_new import remove_dipoles_with_flux, plot_non_dipoles, plot_dipoles\n",
    "\n",
    "removed_dipoles, dipoles = remove_dipoles_with_flux(verified_skycoords, data[2])\n",
    "print(len(removed_dipoles))"
   ]
  },
  {
   "cell_type": "code",
   "execution_count": 50,
   "id": "e730b783",
   "metadata": {},
   "outputs": [],
   "source": [
    "#Check that dipoles are removed:\n",
    "#plot_non_dipoles(removed_dipoles=removed_dipoles , data=data, header=header)\n",
    "#plot_dipoles(removed_dipoles=dipoles , data=data, header=header)"
   ]
  },
  {
   "cell_type": "code",
   "execution_count": 51,
   "id": "9ba6e2cf",
   "metadata": {},
   "outputs": [],
   "source": [
    "from astropy.wcs import WCS\n",
    "def convert_to_skycoord(header, coords):\n",
    "    sky_coords = []\n",
    "    for coord in coords:\n",
    "        x, y = coord\n",
    "        w = WCS(header)\n",
    "        ra_dec = w.pixel_to_world(x, y)\n",
    "        sky_coords.append(ra_dec)\n",
    "    return sky_coords\n",
    "\n",
    "skycoords_no_dipoles = convert_to_skycoord(header[2], removed_dipoles)"
   ]
  },
  {
   "cell_type": "code",
   "execution_count": 52,
   "id": "9acd831c",
   "metadata": {},
   "outputs": [],
   "source": [
    "from python_files.Plot_all_filters import find_diff_bands_cutout_plot"
   ]
  },
  {
   "cell_type": "code",
   "execution_count": 53,
   "id": "df571b03",
   "metadata": {},
   "outputs": [],
   "source": [
    "#find_diff_bands_cutout_plot(path_to_data[-5:], data, header, skycoords_no_dipoles)"
   ]
  },
  {
   "cell_type": "code",
   "execution_count": 54,
   "id": "1ebc35bd",
   "metadata": {},
   "outputs": [],
   "source": [
    "mag_no_dipoles = magnitude_in_each_band_with_aperture(skycoords_no_dipoles, data, header)"
   ]
  },
  {
   "cell_type": "code",
   "execution_count": 55,
   "id": "bdea9254",
   "metadata": {},
   "outputs": [],
   "source": [
    "from astropy.io import fits\n",
    "\n",
    "with fits.open('C:/Users/andre/MasterCode/CosmosWebCatalogue/COSMOSWeb_master_v3.1.0-sersic-cgs_err-calib_LePhare.fits') as hdul:\n",
    "\n",
    "    table = hdul[1].data\n",
    "    header0 = hdul[0].header \n",
    "    header1 = hdul[1].header\n",
    "\n",
    "rows = []\n",
    "cosmos_RA = []\n",
    "cosmos_DEC = []\n",
    "\n",
    "for row in table:          # iterate directly over the items in `table`\n",
    "    rows.append(row)       # save the row\n",
    "    cosmos_RA.append(row['RA_DETEC'])\n",
    "    cosmos_DEC.append(row['DEC_DETEC'])"
   ]
  },
  {
   "cell_type": "code",
   "execution_count": 56,
   "id": "994587e4",
   "metadata": {},
   "outputs": [],
   "source": [
    "float_skycoords_no_dipoles= [(float(x.ra.deg),float(x.dec.deg)) for x in skycoords_no_dipoles] "
   ]
  },
  {
   "cell_type": "code",
   "execution_count": 57,
   "id": "067d8c85",
   "metadata": {},
   "outputs": [],
   "source": [
    "from python_files.Find_closest_object import find_closest_objects_kdtree\n",
    "\n",
    "obj, dist, z_final, z_PDF, z_u68, z_l68 = find_closest_objects_kdtree(rows, cosmos_RA, cosmos_DEC, float_skycoords_no_dipoles)\n"
   ]
  },
  {
   "cell_type": "code",
   "execution_count": 58,
   "id": "cbf7caef",
   "metadata": {},
   "outputs": [],
   "source": [
    "import csv\n",
    "import os\n",
    "\n",
    "# Create a folder to store csv file\n",
    "output_folder_csvfile = 'C:/Users/andre/MasterCode/Code/cross_matched_transients'\n",
    "os.makedirs(output_folder_csvfile, exist_ok=True)  # Creates the folder if it doesn't exist\n",
    "\n",
    "csv_file_name = os.path.join(output_folder_csvfile, path_to_data[-5:]+'.csv')\n",
    "\n",
    "with open(csv_file_name, mode='w', newline='') as file:\n",
    "    writer = csv.writer(file)\n",
    "    writer.writerow(['ID', 'RA', 'DEC', 'x', 'y', 'CNN_prediction', 'F115W_old', 'F115W_new', 'F115W_diff', 'F150W', 'F200W', 'F277W', 'F356W', 'F444W', 'COSMOS-Web Catalog ID', 'Distance to host (in arcsec)', 'z_Final', 'z_PDF', 'z_u68', 'zl68'])\n",
    "\n",
    "    for i in range(len(skycoords_no_dipoles)):\n",
    "        sky = skycoords_no_dipoles[i]\n",
    "        x, y = removed_dipoles[i]\n",
    "        mag = mag_no_dipoles[i]\n",
    "        ob = obj[i]\n",
    "        dis = dist[i]\n",
    "        z_fin = z_final[i]\n",
    "        z = z_PDF[i]\n",
    "        z_u = z_u68[i]\n",
    "        z_l = z_l68[i]\n",
    "        writer.writerow([\n",
    "            f'{path_to_data[-5:]}_{i}', sky.ra.deg, sky.dec.deg, f'{x:.4f}', f'{y:.4f}', 1,\n",
    "            f'{mag[0]:.4f}', f'{mag[1]:.4f}', f'{mag[2]:.4f}', f'{mag[3]:.4f}',\n",
    "            f'{mag[4]:.4f}', f'{mag[5]:.4f}', f'{mag[6]:.4f}', f'{mag[7]:.4f}',\n",
    "            f'{ob}', f'{dis}', f'{z_fin}', f'{z}', f'{z_u}', f'{z_l}' \n",
    "        ])"
   ]
  },
  {
   "cell_type": "code",
   "execution_count": null,
   "id": "b29b399e",
   "metadata": {},
   "outputs": [],
   "source": []
  }
 ],
 "metadata": {
  "kernelspec": {
   "display_name": "JWST",
   "language": "python",
   "name": "python3"
  },
  "language_info": {
   "codemirror_mode": {
    "name": "ipython",
    "version": 3
   },
   "file_extension": ".py",
   "mimetype": "text/x-python",
   "name": "python",
   "nbconvert_exporter": "python",
   "pygments_lexer": "ipython3",
   "version": "3.10.16"
  }
 },
 "nbformat": 4,
 "nbformat_minor": 5
}
