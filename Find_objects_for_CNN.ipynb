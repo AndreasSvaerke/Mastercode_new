{
 "cells": [
  {
   "cell_type": "code",
   "execution_count": 34,
   "metadata": {},
   "outputs": [],
   "source": [
    "from python_files.convert_sky_phy import find_coor_in_ICRS_vector, find_x_y_coords_vector"
   ]
  },
  {
   "cell_type": "code",
   "execution_count": 35,
   "metadata": {},
   "outputs": [],
   "source": [
    "from python_files.open_fits_file import openfits\n",
    "path_to_data = 'C:/Users/andre/MasterCode/Grizli_transient_data/obs18'\n",
    "names, Data, Header= openfits(path_to_data)\n"
   ]
  },
  {
   "cell_type": "code",
   "execution_count": 36,
   "metadata": {},
   "outputs": [
    {
     "name": "stdout",
     "output_type": "stream",
     "text": [
      "21631\n"
     ]
    }
   ],
   "source": [
    "from python_files.Find_sources_with_annuli import find_sources_with_annuli, find_pos_from_source\n",
    "sourcesobs, daofind = find_sources_with_annuli(Data[0])\n",
    "positions_obs = find_pos_from_source(sourcesobs)\n",
    "print(len(positions_obs))"
   ]
  },
  {
   "cell_type": "code",
   "execution_count": 38,
   "metadata": {},
   "outputs": [
    {
     "name": "stdout",
     "output_type": "stream",
     "text": [
      "21631 9263\n"
     ]
    }
   ],
   "source": [
    "from python_files.efficient_remove_nearby_sources import remove_nearby_sources, remove_nearby_sources_leaves_central\n",
    "left_central_positions_obs = remove_nearby_sources_leaves_central(positions_obs,75)\n",
    "print(len(positions_obs),len(left_central_positions_obs))\n"
   ]
  },
  {
   "cell_type": "markdown",
   "metadata": {},
   "source": [
    "Making and saving the cutouts for CNN"
   ]
  },
  {
   "cell_type": "code",
   "execution_count": 39,
   "metadata": {},
   "outputs": [],
   "source": [
    "from python_files.Create_cutout_for_CNN import find_cutout_and_stack_and_save_christian, find_cutout_and_stack_and_save_koki"
   ]
  },
  {
   "cell_type": "code",
   "execution_count": 40,
   "metadata": {},
   "outputs": [],
   "source": [
    "obs_data_for_CNN = [Data[2], Data[1], Data[0]]\n",
    "obs_header_for_CNN = [Header[2], Header[1], Header[0]]"
   ]
  },
  {
   "cell_type": "code",
   "execution_count": 41,
   "metadata": {},
   "outputs": [],
   "source": [
    "import os\n",
    "output_folder = \"C:/Users/andre/MasterCode/Transient_images/Stacked_images_for_CNN/\"+ path_to_data[-5:] + \"/\"\n",
    "os.makedirs(output_folder, exist_ok=True)\n",
    "\n",
    "# from Create_cutout_for_CNN import find_cutout_and_stack_and_save\n",
    "\n",
    "find_cutout_and_stack_and_save_koki(path_to_data[-5:], obs_data_for_CNN, obs_header_for_CNN, left_central_positions_obs, output_folder)\n"
   ]
  }
 ],
 "metadata": {
  "kernelspec": {
   "display_name": "JWST",
   "language": "python",
   "name": "python3"
  },
  "language_info": {
   "codemirror_mode": {
    "name": "ipython",
    "version": 3
   },
   "file_extension": ".py",
   "mimetype": "text/x-python",
   "name": "python",
   "nbconvert_exporter": "python",
   "pygments_lexer": "ipython3",
   "version": "3.10.16"
  }
 },
 "nbformat": 4,
 "nbformat_minor": 2
}
